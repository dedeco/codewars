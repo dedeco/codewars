{
 "cells": [
  {
   "cell_type": "code",
   "execution_count": 10,
   "metadata": {},
   "outputs": [
    {
     "data": {
      "text/plain": [
       "array([[0., 0., 0., 0., 0., 0., 0., 0., 0., 0.],\n",
       "       [0., 0., 0., 0., 0., 0., 0., 0., 0., 0.],\n",
       "       [0., 0., 0., 0., 0., 0., 0., 0., 0., 0.],\n",
       "       [0., 0., 0., 0., 0., 0., 0., 0., 0., 0.],\n",
       "       [0., 0., 0., 0., 0., 0., 0., 0., 0., 0.],\n",
       "       [0., 0., 0., 0., 0., 0., 0., 0., 0., 0.],\n",
       "       [0., 0., 0., 0., 0., 0., 0., 0., 0., 0.],\n",
       "       [0., 0., 0., 0., 0., 0., 0., 0., 0., 0.],\n",
       "       [0., 0., 0., 0., 0., 0., 0., 0., 0., 0.],\n",
       "       [0., 0., 0., 0., 0., 0., 0., 0., 0., 0.]])"
      ]
     },
     "execution_count": 10,
     "metadata": {},
     "output_type": "execute_result"
    }
   ],
   "source": [
    "import numpy as np\n",
    "i = 10\n",
    "a = np.zeros(shape=(i,i))\n",
    "a"
   ]
  },
  {
   "cell_type": "code",
   "execution_count": 12,
   "metadata": {},
   "outputs": [
    {
     "name": "stdout",
     "output_type": "stream",
     "text": [
      "[(0, 0), (6, 5), (9, 3), (3, 6)]\n"
     ]
    }
   ],
   "source": [
    "stations = [0,65,93,36]\n",
    "points = []\n",
    "for s in stations:\n",
    "    s = str(s)\n",
    "    if len(s)==1:\n",
    "        s = s*2\n",
    "    points.append((int(s[0]),int(s[1])))\n",
    "    \n",
    "print(points)"
   ]
  },
  {
   "cell_type": "code",
   "execution_count": 13,
   "metadata": {},
   "outputs": [],
   "source": [
    "def setPoints(points, a):\n",
    "    i = 1\n",
    "    for x,y in points:\n",
    "        a[x][y] = i\n",
    "        i+=1\n",
    "    return a"
   ]
  },
  {
   "cell_type": "code",
   "execution_count": 15,
   "metadata": {},
   "outputs": [
    {
     "data": {
      "text/plain": [
       "array([[1., 0., 0., 0., 0., 0., 0., 0., 0., 0.],\n",
       "       [0., 0., 0., 0., 0., 0., 0., 0., 0., 0.],\n",
       "       [0., 0., 0., 0., 0., 0., 0., 0., 0., 0.],\n",
       "       [0., 0., 0., 0., 0., 0., 4., 0., 0., 0.],\n",
       "       [0., 0., 0., 0., 0., 0., 0., 0., 0., 0.],\n",
       "       [0., 0., 0., 0., 0., 0., 0., 0., 0., 0.],\n",
       "       [0., 0., 0., 0., 0., 2., 0., 0., 0., 0.],\n",
       "       [0., 0., 0., 0., 0., 0., 0., 0., 0., 0.],\n",
       "       [0., 0., 0., 0., 0., 0., 0., 0., 0., 0.],\n",
       "       [0., 0., 0., 3., 0., 0., 0., 0., 0., 0.]])"
      ]
     },
     "execution_count": 15,
     "metadata": {},
     "output_type": "execute_result"
    }
   ],
   "source": [
    "m = setPoints(points,a)\n",
    "m"
   ]
  },
  {
   "cell_type": "code",
   "execution_count": 16,
   "metadata": {},
   "outputs": [],
   "source": [
    "import itertools\n",
    "from scipy.spatial.distance import cdist\n",
    "\n",
    "m = np.asarray(m, dtype=np.int) \n",
    "n = m.max()\n",
    "indexes = []\n",
    "for k in range(1, n+1):\n",
    "    tmp = np.nonzero(m == k)\n",
    "    tmp = np.asarray(tmp).T\n",
    "    indexes.append(tmp)"
   ]
  },
  {
   "cell_type": "code",
   "execution_count": 17,
   "metadata": {},
   "outputs": [
    {
     "data": {
      "text/plain": [
       "[array([[0, 0]]), array([[6, 5]]), array([[9, 3]]), array([[3, 6]])]"
      ]
     },
     "execution_count": 17,
     "metadata": {},
     "output_type": "execute_result"
    }
   ],
   "source": [
    "indexes"
   ]
  },
  {
   "cell_type": "code",
   "execution_count": 21,
   "metadata": {},
   "outputs": [
    {
     "ename": "ValueError",
     "evalue": "XB must be a 2-dimensional array.",
     "output_type": "error",
     "traceback": [
      "\u001b[0;31m---------------------------------------------------------------------------\u001b[0m",
      "\u001b[0;31mValueError\u001b[0m                                Traceback (most recent call last)",
      "\u001b[0;32m<ipython-input-21-88771673f237>\u001b[0m in \u001b[0;36m<module>\u001b[0;34m\u001b[0m\n\u001b[1;32m      1\u001b[0m \u001b[0mdist\u001b[0m \u001b[0;34m=\u001b[0m \u001b[0;34m[\u001b[0m\u001b[0;34m]\u001b[0m\u001b[0;34m\u001b[0m\u001b[0;34m\u001b[0m\u001b[0m\n\u001b[1;32m      2\u001b[0m \u001b[0;32mfor\u001b[0m \u001b[0mcur\u001b[0m\u001b[0;34m,\u001b[0m \u001b[0mnxt\u001b[0m \u001b[0;32min\u001b[0m \u001b[0m_get_cur_next\u001b[0m\u001b[0;34m(\u001b[0m\u001b[0mindexes\u001b[0m\u001b[0;34m)\u001b[0m\u001b[0;34m:\u001b[0m\u001b[0;34m\u001b[0m\u001b[0;34m\u001b[0m\u001b[0m\n\u001b[0;32m----> 3\u001b[0;31m     \u001b[0md2\u001b[0m \u001b[0;34m=\u001b[0m \u001b[0mcdist\u001b[0m\u001b[0;34m(\u001b[0m\u001b[0mcur\u001b[0m\u001b[0;34m,\u001b[0m \u001b[0mnxt\u001b[0m\u001b[0;34m,\u001b[0m \u001b[0mmetric\u001b[0m\u001b[0;34m=\u001b[0m\u001b[0;34m'cityblock'\u001b[0m\u001b[0;34m)\u001b[0m\u001b[0;34m\u001b[0m\u001b[0;34m\u001b[0m\u001b[0m\n\u001b[0m\u001b[1;32m      4\u001b[0m     \u001b[0mdist\u001b[0m\u001b[0;34m.\u001b[0m\u001b[0mappend\u001b[0m\u001b[0;34m(\u001b[0m\u001b[0;34m(\u001b[0m\u001b[0mcur\u001b[0m\u001b[0;34m,\u001b[0m \u001b[0mnext\u001b[0m\u001b[0;34m,\u001b[0m \u001b[0md2\u001b[0m\u001b[0;34m)\u001b[0m\u001b[0;34m)\u001b[0m\u001b[0;34m\u001b[0m\u001b[0;34m\u001b[0m\u001b[0m\n",
      "\u001b[0;32m~/anaconda3/envs/climaenvc/lib/python3.6/site-packages/scipy/spatial/distance.py\u001b[0m in \u001b[0;36mcdist\u001b[0;34m(XA, XB, metric, *args, **kwargs)\u001b[0m\n\u001b[1;32m   2590\u001b[0m         \u001b[0;32mraise\u001b[0m \u001b[0mValueError\u001b[0m\u001b[0;34m(\u001b[0m\u001b[0;34m'XA must be a 2-dimensional array.'\u001b[0m\u001b[0;34m)\u001b[0m\u001b[0;34m\u001b[0m\u001b[0;34m\u001b[0m\u001b[0m\n\u001b[1;32m   2591\u001b[0m     \u001b[0;32mif\u001b[0m \u001b[0mlen\u001b[0m\u001b[0;34m(\u001b[0m\u001b[0msB\u001b[0m\u001b[0;34m)\u001b[0m \u001b[0;34m!=\u001b[0m \u001b[0;36m2\u001b[0m\u001b[0;34m:\u001b[0m\u001b[0;34m\u001b[0m\u001b[0;34m\u001b[0m\u001b[0m\n\u001b[0;32m-> 2592\u001b[0;31m         \u001b[0;32mraise\u001b[0m \u001b[0mValueError\u001b[0m\u001b[0;34m(\u001b[0m\u001b[0;34m'XB must be a 2-dimensional array.'\u001b[0m\u001b[0;34m)\u001b[0m\u001b[0;34m\u001b[0m\u001b[0;34m\u001b[0m\u001b[0m\n\u001b[0m\u001b[1;32m   2593\u001b[0m     \u001b[0;32mif\u001b[0m \u001b[0ms\u001b[0m\u001b[0;34m[\u001b[0m\u001b[0;36m1\u001b[0m\u001b[0;34m]\u001b[0m \u001b[0;34m!=\u001b[0m \u001b[0msB\u001b[0m\u001b[0;34m[\u001b[0m\u001b[0;36m1\u001b[0m\u001b[0;34m]\u001b[0m\u001b[0;34m:\u001b[0m\u001b[0;34m\u001b[0m\u001b[0;34m\u001b[0m\u001b[0m\n\u001b[1;32m   2594\u001b[0m         raise ValueError('XA and XB must have the same number of columns '\n",
      "\u001b[0;31mValueError\u001b[0m: XB must be a 2-dimensional array."
     ]
    }
   ],
   "source": [
    "dist = []\n",
    "for cur, nxt in _get_cur_next(indexes):\n",
    "    d2 = cdist(cur, nxt, metric='cityblock')\n",
    "    dist.append((cur, next, d2))"
   ]
  },
  {
   "cell_type": "code",
   "execution_count": 143,
   "metadata": {},
   "outputs": [
    {
     "data": {
      "text/plain": [
       "array([[ 0., 11., 12.,  9.],\n",
       "       [11.,  0.,  5.,  4.],\n",
       "       [12.,  5.,  0.,  9.],\n",
       "       [ 9.,  4.,  9.,  0.]])"
      ]
     },
     "execution_count": 143,
     "metadata": {},
     "output_type": "execute_result"
    }
   ],
   "source": [
    "distance_matrix"
   ]
  },
  {
   "cell_type": "code",
   "execution_count": 121,
   "metadata": {},
   "outputs": [
    {
     "name": "stdout",
     "output_type": "stream",
     "text": [
      "[[ 1.  1.  0.]\n",
      " [ 2.  1. 11.]\n",
      " [ 3.  1. 12.]\n",
      " [ 4.  1.  9.]\n",
      " [ 1.  2. 11.]\n",
      " [ 2.  2.  0.]\n",
      " [ 3.  2.  5.]\n",
      " [ 4.  2.  4.]\n",
      " [ 1.  3. 12.]\n",
      " [ 2.  3.  5.]\n",
      " [ 3.  3.  0.]\n",
      " [ 4.  3.  9.]\n",
      " [ 1.  4.  9.]\n",
      " [ 2.  4.  4.]\n",
      " [ 3.  4.  9.]\n",
      " [ 4.  4.  0.]]\n"
     ]
    }
   ],
   "source": [
    "labels_i, labels_j = np.meshgrid( range(1, n+1), range(1, n+1))  \n",
    "results = np.dstack((labels_i, labels_j, distance_matrix)).reshape((-1, 3))\n",
    "print(results)"
   ]
  },
  {
   "cell_type": "code",
   "execution_count": null,
   "metadata": {},
   "outputs": [],
   "source": []
  },
  {
   "cell_type": "code",
   "execution_count": null,
   "metadata": {},
   "outputs": [],
   "source": []
  },
  {
   "cell_type": "code",
   "execution_count": null,
   "metadata": {},
   "outputs": [],
   "source": []
  },
  {
   "cell_type": "code",
   "execution_count": 23,
   "metadata": {},
   "outputs": [
    {
     "data": {
      "text/plain": [
       "<matplotlib.image.AxesImage at 0x61457cc88>"
      ]
     },
     "execution_count": 23,
     "metadata": {},
     "output_type": "execute_result"
    },
    {
     "data": {
      "image/png": "[encoded data removed]",
      "text/plain": [
       "<Figure size 432x288 with 1 Axes>"
      ]
     },
     "metadata": {
      "needs_background": "light"
     },
     "output_type": "display_data"
    }
   ],
   "source": [
    "import numpy as np\n",
    "import matplotlib.pyplot as plt\n",
    "\n",
    "# Sample study area array\n",
    "example_array = np.array([[0, 0, 0, 2, 2, 0, 0, 0, 0, 0, 0, 0],\n",
    "                          [0, 0, 2, 0, 2, 2, 0, 6, 0, 3, 3, 3],\n",
    "                          [0, 0, 0, 0, 2, 2, 0, 0, 0, 3, 3, 3],\n",
    "                          [0, 0, 0, 0, 0, 0, 0, 0, 3, 0, 3, 0],\n",
    "                          [0, 0, 0, 0, 0, 0, 0, 0, 0, 0, 3, 3],\n",
    "                          [1, 1, 0, 0, 0, 0, 0, 0, 3, 3, 3, 3],\n",
    "                          [1, 1, 1, 0, 0, 0, 3, 3, 3, 0, 0, 3],\n",
    "                          [1, 1, 1, 0, 0, 0, 3, 3, 3, 0, 0, 0],\n",
    "                          [1, 1, 1, 0, 0, 0, 3, 3, 3, 0, 0, 0],\n",
    "                          [1, 0, 1, 0, 0, 0, 0, 0, 0, 0, 0, 0],\n",
    "                          [1, 0, 1, 0, 0, 0, 0, 5, 5, 0, 0, 0],\n",
    "                          [0, 0, 0, 0, 0, 0, 0, 0, 0, 0, 0, 4]])\n",
    "\n",
    "# Plot array\n",
    "plt.imshow(example_array,  interpolation='nearest')"
   ]
  },
  {
   "cell_type": "code",
   "execution_count": 24,
   "metadata": {},
   "outputs": [],
   "source": [
    "import itertools\n",
    "from scipy.spatial.distance import cdist\n"
   ]
  },
  {
   "cell_type": "code",
   "execution_count": 27,
   "metadata": {},
   "outputs": [
    {
     "data": {
      "text/plain": [
       "array([[0, 0, 0, 2, 2, 0, 0, 0, 0, 0, 0, 0],\n",
       "       [0, 0, 2, 0, 2, 2, 0, 6, 0, 3, 3, 3],\n",
       "       [0, 0, 0, 0, 2, 2, 0, 0, 0, 3, 3, 3],\n",
       "       [0, 0, 0, 0, 0, 0, 0, 0, 3, 0, 3, 0],\n",
       "       [0, 0, 0, 0, 0, 0, 0, 0, 0, 0, 3, 3],\n",
       "       [1, 1, 0, 0, 0, 0, 0, 0, 3, 3, 3, 3],\n",
       "       [1, 1, 1, 0, 0, 0, 3, 3, 3, 0, 0, 3],\n",
       "       [1, 1, 1, 0, 0, 0, 3, 3, 3, 0, 0, 0],\n",
       "       [1, 1, 1, 0, 0, 0, 3, 3, 3, 0, 0, 0],\n",
       "       [1, 0, 1, 0, 0, 0, 0, 0, 0, 0, 0, 0],\n",
       "       [1, 0, 1, 0, 0, 0, 0, 5, 5, 0, 0, 0],\n",
       "       [0, 0, 0, 0, 0, 0, 0, 0, 0, 0, 0, 4]])"
      ]
     },
     "execution_count": 27,
     "metadata": {},
     "output_type": "execute_result"
    }
   ],
   "source": [
    "\n",
    "# making sure that IDs are integer\n",
    "example_array = np.asarray(example_array, dtype=np.int) \n",
    "# we assume that IDs start from 1, so we have n-1 unique IDs between 1 and n\n",
    "n = example_array.max()"
   ]
  },
  {
   "cell_type": "code",
   "execution_count": null,
   "metadata": {},
   "outputs": [],
   "source": [
    "\n",
    "indexes = []\n",
    "for k in range(1, n):\n",
    "    tmp = np.nonzero(example_array == k)\n",
    "    tmp = np.asarray(tmp).T\n",
    "    indexes.append(tmp)\n"
   ]
  },
  {
   "cell_type": "code",
   "execution_count": 28,
   "metadata": {},
   "outputs": [
    {
     "data": {
      "text/plain": [
       "[array([[0, 0]]), array([[6, 5]]), array([[9, 3]]), array([[3, 6]])]"
      ]
     },
     "execution_count": 28,
     "metadata": {},
     "output_type": "execute_result"
    }
   ],
   "source": [
    "indexes"
   ]
  },
  {
   "cell_type": "code",
   "execution_count": 181,
   "metadata": {},
   "outputs": [
    {
     "name": "stdout",
     "output_type": "stream",
     "text": [
      "(15, 2) [[ 5  0]\n",
      " [ 5  1]\n",
      " [ 6  0]\n",
      " [ 6  1]\n",
      " [ 6  2]\n",
      " [ 7  0]\n",
      " [ 7  1]\n",
      " [ 7  2]\n",
      " [ 8  0]\n",
      " [ 8  1]\n",
      " [ 8  2]\n",
      " [ 9  0]\n",
      " [ 9  2]\n",
      " [10  0]\n",
      " [10  2]]\n"
     ]
    }
   ],
   "source": [
    "for i in indexes:\n",
    "    print(i.shape, i)\n",
    "    break"
   ]
  },
  {
   "cell_type": "code",
   "execution_count": null,
   "metadata": {},
   "outputs": [],
   "source": [
    "\n",
    "# calculating the distance matrix\n",
    "distance_matrix = np.zeros((n-1, n-1), dtype=np.float)   \n",
    "for i, j in itertools.combinations(range(n-1), 2):\n",
    "    # use squared Euclidean distance (more efficient), and take the square root only of the single element we are interested in.\n",
    "    d2 = cdist(indexes[i], indexes[j], metric='sqeuclidean') \n",
    "    distance_matrix[i, j] = distance_matrix[j, i] = d2.min()**0.5\n",
    "\n",
    "# mapping the distance matrix to labeled IDs (could be improved/extended)\n",
    "labels_i, labels_j = np.meshgrid( range(1, n), range(1, n))  \n",
    "results = np.dstack((labels_i, labels_j, distance_matrix)).reshape((-1, 3))\n",
    "\n",
    "print(distance_matrix)\n",
    "print(results)"
   ]
  },
  {
   "cell_type": "code",
   "execution_count": null,
   "metadata": {},
   "outputs": [],
   "source": []
  },
  {
   "cell_type": "code",
   "execution_count": 126,
   "metadata": {},
   "outputs": [
    {
     "data": {
      "text/plain": [
       "[(array([[0, 0]]), array([[6, 5]])),\n",
       " (array([[6, 5]]), array([[9, 3]])),\n",
       " (array([[9, 3]]), array([[3, 6]])),\n",
       " (array([[3, 6]]), None)]"
      ]
     },
     "execution_count": 126,
     "metadata": {},
     "output_type": "execute_result"
    }
   ],
   "source": [
    "list()\n"
   ]
  },
  {
   "cell_type": "code",
   "execution_count": 114,
   "metadata": {},
   "outputs": [
    {
     "data": {
      "text/plain": [
       "array([[0., 0., 0., 0.],\n",
       "       [0., 0., 0., 0.],\n",
       "       [0., 0., 0., 0.],\n",
       "       [0., 0., 0., 0.]])"
      ]
     },
     "execution_count": 114,
     "metadata": {},
     "output_type": "execute_result"
    }
   ],
   "source": [
    "distance_matrix"
   ]
  },
  {
   "cell_type": "code",
   "execution_count": 113,
   "metadata": {},
   "outputs": [],
   "source": [
    "distance_matrix = np.zeros((n, n), dtype=np.float)   "
   ]
  },
  {
   "cell_type": "code",
   "execution_count": 55,
   "metadata": {},
   "outputs": [
    {
     "data": {
      "text/plain": [
       "<matplotlib.image.AxesImage at 0x61aa999e8>"
      ]
     },
     "execution_count": 55,
     "metadata": {},
     "output_type": "execute_result"
    },
    {
     "data": {
      "image/png": "[encoded data removed]",
      "text/plain": [
       "<Figure size 432x288 with 1 Axes>"
      ]
     },
     "metadata": {
      "needs_background": "light"
     },
     "output_type": "display_data"
    }
   ],
   "source": [
    "plt.imshow(example_array, interpolation='nearest')"
   ]
  }
 ],
 "metadata": {
  "kernelspec": {
   "display_name": "Python 3",
   "language": "python",
   "name": "python3"
  },
  "language_info": {
   "codemirror_mode": {
    "name": "ipython",
    "version": 3
   },
   "file_extension": ".py",
   "mimetype": "text/x-python",
   "name": "python",
   "nbconvert_exporter": "python",
   "pygments_lexer": "ipython3",
   "version": "3.6.7"
  }
 },
 "nbformat": 4,
 "nbformat_minor": 2
}
