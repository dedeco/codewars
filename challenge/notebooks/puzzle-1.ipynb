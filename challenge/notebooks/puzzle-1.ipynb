{
 "cells": [
  {
   "cell_type": "code",
   "execution_count": 116,
   "metadata": {},
   "outputs": [],
   "source": [
    "stations = [0,65,93,36]"
   ]
  },
  {
   "cell_type": "code",
   "execution_count": 117,
   "metadata": {},
   "outputs": [
    {
     "name": "stdout",
     "output_type": "stream",
     "text": [
      "[[0, 0], [6, 5], [9, 3], [3, 6]]\n"
     ]
    }
   ],
   "source": [
    "points = []\n",
    "for s in stations:\n",
    "    s = str(s)\n",
    "    if len(s)==1:\n",
    "        s = s*2\n",
    "    points.append([int(s[0]),int(s[1])])\n",
    "    \n",
    "print(points)"
   ]
  },
  {
   "cell_type": "code",
   "execution_count": 118,
   "metadata": {},
   "outputs": [],
   "source": [
    "def _get_cur_next(iterable):\n",
    "    iterator = iter(iterable)\n",
    "    current_item = next(iterator)\n",
    "    for next_item in iterator:\n",
    "        yield (current_item, next_item)\n",
    "        current_item = next_item"
   ]
  },
  {
   "cell_type": "code",
   "execution_count": 139,
   "metadata": {},
   "outputs": [
    {
     "data": {
      "text/plain": [
       "[([0, 0], [6, 5]), ([6, 5], [9, 3]), ([9, 3], [3, 6])]"
      ]
     },
     "execution_count": 139,
     "metadata": {},
     "output_type": "execute_result"
    }
   ],
   "source": [
    "iterpoints = list(_get_cur_next(points))\n",
    "iterpoints"
   ]
  },
  {
   "cell_type": "code",
   "execution_count": 140,
   "metadata": {},
   "outputs": [],
   "source": [
    "iterpoints = np.array(iterpoints,dtype=int)"
   ]
  },
  {
   "cell_type": "code",
   "execution_count": 141,
   "metadata": {},
   "outputs": [],
   "source": [
    "import itertools\n",
    "from scipy.spatial.distance import cdist"
   ]
  },
  {
   "cell_type": "code",
   "execution_count": 144,
   "metadata": {},
   "outputs": [
    {
     "name": "stdout",
     "output_type": "stream",
     "text": [
      "[0 0] [6 5]\n",
      "[6 5] [9 3]\n",
      "[9 3] [3 6]\n"
     ]
    },
    {
     "data": {
      "text/plain": [
       "[(array([0, 0]), array([6, 5]), array([[11.]])),\n",
       " (array([6, 5]), array([9, 3]), array([[5.]])),\n",
       " (array([9, 3]), array([3, 6]), array([[9.]]))]"
      ]
     },
     "execution_count": 144,
     "metadata": {},
     "output_type": "execute_result"
    }
   ],
   "source": [
    "dist = []\n",
    "for cur, nxt in l:\n",
    "    print(cur, nxt)\n",
    "    d2 = cdist([cur], [nxt], metric='cityblock')\n",
    "    dist.append((cur, nxt, d2))\n",
    "dist"
   ]
  },
  {
   "cell_type": "code",
   "execution_count": null,
   "metadata": {},
   "outputs": [],
   "source": []
  }
 ],
 "metadata": {
  "kernelspec": {
   "display_name": "Python 3",
   "language": "python",
   "name": "python3"
  },
  "language_info": {
   "codemirror_mode": {
    "name": "ipython",
    "version": 3
   },
   "file_extension": ".py",
   "mimetype": "text/x-python",
   "name": "python",
   "nbconvert_exporter": "python",
   "pygments_lexer": "ipython3",
   "version": "3.6.7"
  }
 },
 "nbformat": 4,
 "nbformat_minor": 2
}
